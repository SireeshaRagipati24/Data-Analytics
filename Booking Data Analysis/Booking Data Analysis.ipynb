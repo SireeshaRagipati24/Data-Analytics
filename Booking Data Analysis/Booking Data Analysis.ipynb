{
 "cells": [
  {
   "cell_type": "code",
   "execution_count": 1,
   "id": "e5be4233-f713-417d-b4b8-4ee05dabf4af",
   "metadata": {},
   "outputs": [],
   "source": []
  },
  {
   "cell_type": "markdown",
   "id": "548b1790-78b1-4501-9949-645e40dbd729",
   "metadata": {},
   "source": [
    "# Data Analyst Intern Assessment - Booking Data Analysis"
   ]
  },
  {
   "cell_type": "markdown",
   "id": "c3a47cae-2d0c-4a8c-bd7d-80308f2275a4",
   "metadata": {},
   "source": [
    "**1. Introduction Section**"
   ]
  },
  {
   "cell_type": "markdown",
   "id": "81fd7337-0dd9-4478-8353-05fedd241c75",
   "metadata": {},
   "source": [
    "- This notebook analyzes booking data for a multi-service business. The dataset includes class bookings, \n",
    "subscriptions, facility rentals, and birthday party reservations. The goal is to clean the data, perform \n",
    "exploratory analysis, and present insights through an interactive dashboard.\n"
   ]
  },
  {
   "cell_type": "markdown",
   "id": "dc169fb3-9d9e-4c98-97fd-845ff12e3ad7",
   "metadata": {},
   "source": [
    "**2. Import Necessary Libraries**"
   ]
  },
  {
   "cell_type": "code",
   "execution_count": null,
   "id": "a5eb37f2-9b7e-4596-9375-1d66a3048255",
   "metadata": {},
   "outputs": [],
   "source": [
    "import pandas as pd\n",
    "import numpy as np\n",
    "import matplotlib.pyplot as plt \n",
    "import seaborn as sns"
   ]
  },
  {
   "cell_type": "markdown",
   "id": "ccbce808-395e-4ec7-a0c5-0199a620d7d8",
   "metadata": {},
   "source": [
    "**3. Load the Dataset**"
   ]
  },
  {
   "cell_type": "code",
   "execution_count": 2,
   "id": "68752d31-84ca-49a1-8cb1-556110b80722",
   "metadata": {},
   "outputs": [
    {
     "data": {
      "text/html": [
       "<div>\n",
       "<style scoped>\n",
       "    .dataframe tbody tr th:only-of-type {\n",
       "        vertical-align: middle;\n",
       "    }\n",
       "\n",
       "    .dataframe tbody tr th {\n",
       "        vertical-align: top;\n",
       "    }\n",
       "\n",
       "    .dataframe thead th {\n",
       "        text-align: right;\n",
       "    }\n",
       "</style>\n",
       "<table border=\"1\" class=\"dataframe\">\n",
       "  <thead>\n",
       "    <tr style=\"text-align: right;\">\n",
       "      <th></th>\n",
       "      <th>Booking ID</th>\n",
       "      <th>Customer ID</th>\n",
       "      <th>Customer Name</th>\n",
       "      <th>Booking Type</th>\n",
       "      <th>Booking Date</th>\n",
       "      <th>Status</th>\n",
       "      <th>Class Type</th>\n",
       "      <th>Instructor</th>\n",
       "      <th>Time Slot</th>\n",
       "      <th>Duration (mins)</th>\n",
       "      <th>Price</th>\n",
       "      <th>Facility</th>\n",
       "      <th>Theme</th>\n",
       "      <th>Subscription Type</th>\n",
       "      <th>Service Name</th>\n",
       "      <th>Service Type</th>\n",
       "      <th>Customer Email</th>\n",
       "      <th>Customer Phone</th>\n",
       "    </tr>\n",
       "  </thead>\n",
       "  <tbody>\n",
       "    <tr>\n",
       "      <th>0</th>\n",
       "      <td>279d92c6-ce26-47c0-8915-e45b77fe20e2</td>\n",
       "      <td>00901ce3-3d86-4c97-bca2-40ccac2fb99f</td>\n",
       "      <td>Customer 1</td>\n",
       "      <td>Facility</td>\n",
       "      <td>2025-05-30</td>\n",
       "      <td>Pending</td>\n",
       "      <td>NaN</td>\n",
       "      <td>NaN</td>\n",
       "      <td>10:00:00</td>\n",
       "      <td>90.0</td>\n",
       "      <td>42.74</td>\n",
       "      <td>Party Room</td>\n",
       "      <td>NaN</td>\n",
       "      <td>NaN</td>\n",
       "      <td>Party Room</td>\n",
       "      <td>Facility</td>\n",
       "      <td>customer1@example.com</td>\n",
       "      <td>001-730-9034</td>\n",
       "    </tr>\n",
       "    <tr>\n",
       "      <th>1</th>\n",
       "      <td>415bfcbe-1a2e-4d4b-809a-4c5b606653b1</td>\n",
       "      <td>b82db986-bd52-4b07-bdd8-aa8cf2016241</td>\n",
       "      <td>Customer 2</td>\n",
       "      <td>Birthday Party</td>\n",
       "      <td>2025-05-29</td>\n",
       "      <td>Pending</td>\n",
       "      <td>NaN</td>\n",
       "      <td>NaN</td>\n",
       "      <td>NaN</td>\n",
       "      <td>NaN</td>\n",
       "      <td>182.06</td>\n",
       "      <td>Party Room</td>\n",
       "      <td>Superhero</td>\n",
       "      <td>NaN</td>\n",
       "      <td>Party Room</td>\n",
       "      <td>Birthday Party</td>\n",
       "      <td>customer2@example.com</td>\n",
       "      <td>001-537-5668</td>\n",
       "    </tr>\n",
       "    <tr>\n",
       "      <th>2</th>\n",
       "      <td>2100024b-46fc-47b5-ac1c-047d007a4723</td>\n",
       "      <td>6bbb6e83-9577-4f64-80b0-f073132d18f3</td>\n",
       "      <td>Customer 3</td>\n",
       "      <td>Birthday Party</td>\n",
       "      <td>2025-05-09</td>\n",
       "      <td>Confirmed</td>\n",
       "      <td>NaN</td>\n",
       "      <td>NaN</td>\n",
       "      <td>11:00:00</td>\n",
       "      <td>120.0</td>\n",
       "      <td>207.50</td>\n",
       "      <td>Play Area</td>\n",
       "      <td>NaN</td>\n",
       "      <td>NaN</td>\n",
       "      <td>Play Area</td>\n",
       "      <td>Facility</td>\n",
       "      <td>customer3@example.com</td>\n",
       "      <td>001-880-7769</td>\n",
       "    </tr>\n",
       "    <tr>\n",
       "      <th>3</th>\n",
       "      <td>74936def-088f-4d34-bad1-dfa76f78b704</td>\n",
       "      <td>f16f5beb-6a7d-4493-a19e-a30dbbd206e9</td>\n",
       "      <td>Customer 4</td>\n",
       "      <td>Birthday Party</td>\n",
       "      <td>2025-06-07</td>\n",
       "      <td>Pending</td>\n",
       "      <td>NaN</td>\n",
       "      <td>NaN</td>\n",
       "      <td>12:00:00</td>\n",
       "      <td>90.0</td>\n",
       "      <td>203.20</td>\n",
       "      <td>Play Area</td>\n",
       "      <td>NaN</td>\n",
       "      <td>NaN</td>\n",
       "      <td>Play Area</td>\n",
       "      <td>Birthday Party</td>\n",
       "      <td>customer4@example.com</td>\n",
       "      <td>001-491-3107</td>\n",
       "    </tr>\n",
       "    <tr>\n",
       "      <th>4</th>\n",
       "      <td>6272b4e7-a508-4ed7-bae0-21f7293287a8</td>\n",
       "      <td>eb297435-93d1-4e65-8dd4-6450922305cb</td>\n",
       "      <td>Customer 5</td>\n",
       "      <td>Class</td>\n",
       "      <td>2025-04-13</td>\n",
       "      <td>Pending</td>\n",
       "      <td>Art</td>\n",
       "      <td>NaN</td>\n",
       "      <td>15:00:00</td>\n",
       "      <td>120.0</td>\n",
       "      <td>161.14</td>\n",
       "      <td>NaN</td>\n",
       "      <td>NaN</td>\n",
       "      <td>NaN</td>\n",
       "      <td>Art</td>\n",
       "      <td>Class</td>\n",
       "      <td>customer5@example.com</td>\n",
       "      <td>001-718-3794</td>\n",
       "    </tr>\n",
       "  </tbody>\n",
       "</table>\n",
       "</div>"
      ],
      "text/plain": [
       "                             Booking ID                           Customer ID  \\\n",
       "0  279d92c6-ce26-47c0-8915-e45b77fe20e2  00901ce3-3d86-4c97-bca2-40ccac2fb99f   \n",
       "1  415bfcbe-1a2e-4d4b-809a-4c5b606653b1  b82db986-bd52-4b07-bdd8-aa8cf2016241   \n",
       "2  2100024b-46fc-47b5-ac1c-047d007a4723  6bbb6e83-9577-4f64-80b0-f073132d18f3   \n",
       "3  74936def-088f-4d34-bad1-dfa76f78b704  f16f5beb-6a7d-4493-a19e-a30dbbd206e9   \n",
       "4  6272b4e7-a508-4ed7-bae0-21f7293287a8  eb297435-93d1-4e65-8dd4-6450922305cb   \n",
       "\n",
       "  Customer Name    Booking Type Booking Date     Status Class Type Instructor  \\\n",
       "0    Customer 1        Facility   2025-05-30    Pending        NaN        NaN   \n",
       "1    Customer 2  Birthday Party   2025-05-29    Pending        NaN        NaN   \n",
       "2    Customer 3  Birthday Party   2025-05-09  Confirmed        NaN        NaN   \n",
       "3    Customer 4  Birthday Party   2025-06-07    Pending        NaN        NaN   \n",
       "4    Customer 5           Class   2025-04-13    Pending        Art        NaN   \n",
       "\n",
       "  Time Slot  Duration (mins)   Price    Facility      Theme  \\\n",
       "0  10:00:00             90.0   42.74  Party Room        NaN   \n",
       "1       NaN              NaN  182.06  Party Room  Superhero   \n",
       "2  11:00:00            120.0  207.50   Play Area        NaN   \n",
       "3  12:00:00             90.0  203.20   Play Area        NaN   \n",
       "4  15:00:00            120.0  161.14         NaN        NaN   \n",
       "\n",
       "   Subscription Type Service Name    Service Type         Customer Email  \\\n",
       "0                NaN   Party Room        Facility  customer1@example.com   \n",
       "1                NaN   Party Room  Birthday Party  customer2@example.com   \n",
       "2                NaN    Play Area        Facility  customer3@example.com   \n",
       "3                NaN    Play Area  Birthday Party  customer4@example.com   \n",
       "4                NaN          Art           Class  customer5@example.com   \n",
       "\n",
       "  Customer Phone  \n",
       "0   001-730-9034  \n",
       "1   001-537-5668  \n",
       "2   001-880-7769  \n",
       "3   001-491-3107  \n",
       "4   001-718-3794  "
      ]
     },
     "execution_count": 2,
     "metadata": {},
     "output_type": "execute_result"
    }
   ],
   "source": [
    "df=pd.read_excel(\"DataAnalyst_Assesment_Dataset.xlsx\")\n",
    "df.head()"
   ]
  },
  {
   "cell_type": "markdown",
   "id": "e27e4ff1-774b-4253-80fd-c212459d9ac6",
   "metadata": {},
   "source": [
    "**4. Dataset Overview**"
   ]
  },
  {
   "cell_type": "markdown",
   "id": "2eea41b0-c55d-4a6f-85cb-aa7d3e2d7298",
   "metadata": {},
   "source": [
    "- Below, we check the basic structure of the dataset, including column names, data types, and missing values."
   ]
  },
  {
   "cell_type": "code",
   "execution_count": 3,
   "id": "5ad5312e-b917-4b62-b172-e0f10d550491",
   "metadata": {},
   "outputs": [
    {
     "name": "stdout",
     "output_type": "stream",
     "text": [
      "<class 'pandas.core.frame.DataFrame'>\n",
      "RangeIndex: 1000 entries, 0 to 999\n",
      "Data columns (total 18 columns):\n",
      " #   Column             Non-Null Count  Dtype         \n",
      "---  ------             --------------  -----         \n",
      " 0   Booking ID         1000 non-null   object        \n",
      " 1   Customer ID        1000 non-null   object        \n",
      " 2   Customer Name      1000 non-null   object        \n",
      " 3   Booking Type       1000 non-null   object        \n",
      " 4   Booking Date       1000 non-null   datetime64[ns]\n",
      " 5   Status             1000 non-null   object        \n",
      " 6   Class Type         328 non-null    object        \n",
      " 7   Instructor         270 non-null    object        \n",
      " 8   Time Slot          795 non-null    object        \n",
      " 9   Duration (mins)    795 non-null    float64       \n",
      " 10  Price              1000 non-null   float64       \n",
      " 11  Facility           672 non-null    object        \n",
      " 12  Theme              273 non-null    object        \n",
      " 13  Subscription Type  0 non-null      float64       \n",
      " 14  Service Name       1000 non-null   object        \n",
      " 15  Service Type       1000 non-null   object        \n",
      " 16  Customer Email     906 non-null    object        \n",
      " 17  Customer Phone     895 non-null    object        \n",
      "dtypes: datetime64[ns](1), float64(3), object(14)\n",
      "memory usage: 140.8+ KB\n"
     ]
    }
   ],
   "source": [
    "df.info()"
   ]
  },
  {
   "cell_type": "code",
   "execution_count": 4,
   "id": "c1803a4d-c5c4-4a25-adec-00b7786b2d57",
   "metadata": {},
   "outputs": [
    {
     "data": {
      "text/plain": [
       "0"
      ]
     },
     "execution_count": 4,
     "metadata": {},
     "output_type": "execute_result"
    }
   ],
   "source": [
    "df.duplicated().sum()"
   ]
  },
  {
   "cell_type": "code",
   "execution_count": 5,
   "id": "7ae00bf6-f10b-4da5-8e3c-1d8d4de6dcb3",
   "metadata": {},
   "outputs": [
    {
     "data": {
      "text/plain": [
       "Index(['Booking ID', 'Customer ID', 'Customer Name', 'Booking Type',\n",
       "       'Booking Date', 'Status', 'Class Type', 'Instructor', 'Time Slot',\n",
       "       'Duration (mins)', 'Price', 'Facility', 'Theme', 'Subscription Type',\n",
       "       'Service Name', 'Service Type', 'Customer Email', 'Customer Phone'],\n",
       "      dtype='object')"
      ]
     },
     "execution_count": 5,
     "metadata": {},
     "output_type": "execute_result"
    }
   ],
   "source": [
    "df.columns"
   ]
  },
  {
   "cell_type": "markdown",
   "id": "d1486c2d-c8bc-4ce4-86ee-1e5c6ef20ee1",
   "metadata": {},
   "source": [
    "**5. Data Understanding**"
   ]
  },
  {
   "cell_type": "markdown",
   "id": "af3b70a2-73e0-42e4-8a1a-45c4d2e7a58b",
   "metadata": {},
   "source": [
    "- Understand each column to identify unique values, their counts, and any missing values.  \n",
    "- This helps in detecting data inconsistencies and understanding the dataset better. "
   ]
  },
  {
   "cell_type": "code",
   "execution_count": 6,
   "id": "7acc8484-3594-4a54-b11d-34f50599e512",
   "metadata": {},
   "outputs": [
    {
     "data": {
      "text/plain": [
       "1000"
      ]
     },
     "execution_count": 6,
     "metadata": {},
     "output_type": "execute_result"
    }
   ],
   "source": [
    "df['Booking ID'].nunique()   "
   ]
  },
  {
   "cell_type": "code",
   "execution_count": 7,
   "id": "0b65d53a-3b90-4a07-858c-8ea68ca92ff0",
   "metadata": {},
   "outputs": [
    {
     "data": {
      "text/plain": [
       "1000"
      ]
     },
     "execution_count": 7,
     "metadata": {},
     "output_type": "execute_result"
    }
   ],
   "source": [
    "df['Customer ID'].nunique() "
   ]
  },
  {
   "cell_type": "code",
   "execution_count": 8,
   "id": "79293128-e0d0-47f1-a005-a34bf01ecffd",
   "metadata": {},
   "outputs": [
    {
     "data": {
      "text/plain": [
       "1000"
      ]
     },
     "execution_count": 8,
     "metadata": {},
     "output_type": "execute_result"
    }
   ],
   "source": [
    "df[\"Customer Name\"].nunique() "
   ]
  },
  {
   "cell_type": "markdown",
   "id": "be885f71-f9f6-4bee-b569-9f9207b988e7",
   "metadata": {},
   "source": [
    "**Observations**\n",
    "\n",
    "- Drop identifier columns that don't add value to the analysis.\n",
    "- 'Booking ID', 'Customer ID', and 'Customer Name' are unique for every record.\n",
    "- While these columns can be useful for joining data or future reference,\n",
    "- they do not contribute to understanding overall trends in the dataset."
   ]
  },
  {
   "cell_type": "code",
   "execution_count": 9,
   "id": "467ca4ef-57ec-4ee9-b1ef-c79e480ca7b7",
   "metadata": {},
   "outputs": [
    {
     "data": {
      "text/plain": [
       "array(['Facility', 'Birthday Party', 'Class'], dtype=object)"
      ]
     },
     "execution_count": 9,
     "metadata": {},
     "output_type": "execute_result"
    }
   ],
   "source": [
    "df[\"Booking Type\"].unique()"
   ]
  },
  {
   "cell_type": "code",
   "execution_count": 10,
   "id": "055feb4b-9000-4302-baaa-b6294c32dda4",
   "metadata": {},
   "outputs": [
    {
     "data": {
      "text/plain": [
       "Booking Type\n",
       "Facility          337\n",
       "Birthday Party    335\n",
       "Class             328\n",
       "Name: count, dtype: int64"
      ]
     },
     "execution_count": 10,
     "metadata": {},
     "output_type": "execute_result"
    }
   ],
   "source": [
    "df[\"Booking Type\"].value_counts()"
   ]
  },
  {
   "cell_type": "code",
   "execution_count": 11,
   "id": "42fd3c19-1b8a-4b41-8cc6-45ac799beaa8",
   "metadata": {},
   "outputs": [
    {
     "data": {
      "text/plain": [
       "<DatetimeArray>\n",
       "['2025-05-30 00:00:00', '2025-05-29 00:00:00', '2025-05-09 00:00:00',\n",
       " '2025-06-07 00:00:00', '2025-04-13 00:00:00', '2025-05-10 00:00:00',\n",
       " '2025-05-18 00:00:00', '2025-04-23 00:00:00', '2025-05-19 00:00:00',\n",
       " '2025-06-02 00:00:00', '2025-04-08 00:00:00', '2025-04-20 00:00:00',\n",
       " '2025-06-11 00:00:00', '2025-06-04 00:00:00', '2025-04-06 00:00:00',\n",
       " '2025-03-26 00:00:00', '2025-04-25 00:00:00', '2025-03-31 00:00:00',\n",
       " '2025-05-13 00:00:00', '2025-05-20 00:00:00', '2025-03-30 00:00:00',\n",
       " '2025-06-10 00:00:00', '2025-06-03 00:00:00', '2025-04-26 00:00:00',\n",
       " '2025-04-24 00:00:00', '2025-06-15 00:00:00', '2025-05-01 00:00:00',\n",
       " '2025-04-27 00:00:00', '2025-03-28 00:00:00', '2025-05-26 00:00:00',\n",
       " '2025-03-25 00:00:00', '2025-06-05 00:00:00', '2025-05-15 00:00:00',\n",
       " '2025-05-08 00:00:00', '2025-05-04 00:00:00', '2025-06-22 00:00:00',\n",
       " '2025-04-01 00:00:00', '2025-04-14 00:00:00', '2025-05-14 00:00:00',\n",
       " '2025-05-05 00:00:00', '2025-06-13 00:00:00', '2025-05-07 00:00:00',\n",
       " '2025-05-16 00:00:00', '2025-04-30 00:00:00', '2025-04-10 00:00:00',\n",
       " '2025-05-31 00:00:00', '2025-04-28 00:00:00', '2025-06-17 00:00:00',\n",
       " '2025-06-12 00:00:00', '2025-05-22 00:00:00', '2025-04-29 00:00:00',\n",
       " '2025-04-22 00:00:00', '2025-04-16 00:00:00', '2025-04-11 00:00:00',\n",
       " '2025-03-27 00:00:00', '2025-06-14 00:00:00', '2025-03-29 00:00:00',\n",
       " '2025-04-15 00:00:00', '2025-04-07 00:00:00', '2025-06-16 00:00:00',\n",
       " '2025-04-21 00:00:00', '2025-04-02 00:00:00', '2025-05-17 00:00:00',\n",
       " '2025-06-20 00:00:00', '2025-06-18 00:00:00', '2025-04-03 00:00:00',\n",
       " '2025-04-04 00:00:00', '2025-06-01 00:00:00', '2025-06-21 00:00:00',\n",
       " '2025-05-03 00:00:00', '2025-05-24 00:00:00', '2025-05-21 00:00:00',\n",
       " '2025-05-12 00:00:00', '2025-04-19 00:00:00', '2025-04-18 00:00:00',\n",
       " '2025-05-23 00:00:00', '2025-05-28 00:00:00', '2025-06-09 00:00:00',\n",
       " '2025-05-11 00:00:00', '2025-04-05 00:00:00', '2025-05-27 00:00:00',\n",
       " '2025-04-09 00:00:00', '2025-05-25 00:00:00', '2025-04-12 00:00:00',\n",
       " '2025-04-17 00:00:00', '2025-06-19 00:00:00', '2025-06-08 00:00:00',\n",
       " '2025-05-02 00:00:00', '2025-05-06 00:00:00', '2025-06-06 00:00:00']\n",
       "Length: 90, dtype: datetime64[ns]"
      ]
     },
     "execution_count": 11,
     "metadata": {},
     "output_type": "execute_result"
    }
   ],
   "source": [
    "df['Booking Date'].unique()"
   ]
  },
  {
   "cell_type": "code",
   "execution_count": 12,
   "id": "eacd6bce-3f18-4d84-89fb-8cf497ff68f5",
   "metadata": {},
   "outputs": [
    {
     "data": {
      "text/plain": [
       "array(['Pending', 'Confirmed'], dtype=object)"
      ]
     },
     "execution_count": 12,
     "metadata": {},
     "output_type": "execute_result"
    }
   ],
   "source": [
    "df['Status'].unique()"
   ]
  },
  {
   "cell_type": "code",
   "execution_count": 13,
   "id": "012f41a5-6a0a-49a7-ab32-7f56422a7454",
   "metadata": {},
   "outputs": [
    {
     "data": {
      "text/plain": [
       "Status\n",
       "Pending      510\n",
       "Confirmed    490\n",
       "Name: count, dtype: int64"
      ]
     },
     "execution_count": 13,
     "metadata": {},
     "output_type": "execute_result"
    }
   ],
   "source": [
    "df['Status'].value_counts()"
   ]
  },
  {
   "cell_type": "code",
   "execution_count": 14,
   "id": "3f62a024-f2ec-41d3-8725-3325775598d5",
   "metadata": {},
   "outputs": [
    {
     "data": {
      "text/plain": [
       "array([nan, 'Art', 'Dance', 'Gymnastics'], dtype=object)"
      ]
     },
     "execution_count": 14,
     "metadata": {},
     "output_type": "execute_result"
    }
   ],
   "source": [
    "df['Class Type'].unique()  # some missing values present"
   ]
  },
  {
   "cell_type": "code",
   "execution_count": 15,
   "id": "c7f8418b-17b9-437d-8d59-18521b6c10f7",
   "metadata": {},
   "outputs": [
    {
     "data": {
      "text/plain": [
       "Class Type\n",
       "Gymnastics    111\n",
       "Art           110\n",
       "Dance         107\n",
       "Name: count, dtype: int64"
      ]
     },
     "execution_count": 15,
     "metadata": {},
     "output_type": "execute_result"
    }
   ],
   "source": [
    "df['Class Type'].value_counts()"
   ]
  },
  {
   "cell_type": "code",
   "execution_count": 16,
   "id": "88b63a11-d55a-4506-9668-252f8a959361",
   "metadata": {},
   "outputs": [
    {
     "data": {
      "text/plain": [
       "array([nan, 'Amanda Davis', 'Lisa Hensley', 'James Howard'], dtype=object)"
      ]
     },
     "execution_count": 16,
     "metadata": {},
     "output_type": "execute_result"
    }
   ],
   "source": [
    "df['Instructor'].unique()"
   ]
  },
  {
   "cell_type": "code",
   "execution_count": 17,
   "id": "317d90dc-4ceb-462a-bd08-5e94609d89d0",
   "metadata": {},
   "outputs": [
    {
     "data": {
      "text/plain": [
       "Instructor\n",
       "Amanda Davis    90\n",
       "Lisa Hensley    90\n",
       "James Howard    90\n",
       "Name: count, dtype: int64"
      ]
     },
     "execution_count": 17,
     "metadata": {},
     "output_type": "execute_result"
    }
   ],
   "source": [
    "df['Instructor'].value_counts()"
   ]
  },
  {
   "cell_type": "code",
   "execution_count": 18,
   "id": "67d389b3-2d27-418f-aaad-f867975ddabc",
   "metadata": {},
   "outputs": [
    {
     "data": {
      "text/plain": [
       "array([datetime.time(10, 0), nan, datetime.time(11, 0),\n",
       "       datetime.time(12, 0), datetime.time(15, 0), datetime.time(16, 0),\n",
       "       datetime.time(13, 0), datetime.time(9, 0), datetime.time(17, 0),\n",
       "       datetime.time(14, 0)], dtype=object)"
      ]
     },
     "execution_count": 18,
     "metadata": {},
     "output_type": "execute_result"
    }
   ],
   "source": [
    "df['Time Slot'].unique()"
   ]
  },
  {
   "cell_type": "code",
   "execution_count": 19,
   "id": "2917c370-a981-4b01-8d30-3ea2fba33949",
   "metadata": {},
   "outputs": [],
   "source": [
    "df['Time Slot'] = df['Time Slot'].apply(lambda x: x.strftime('%I %p') if pd.notnull(x) else 'Unknown')"
   ]
  },
  {
   "cell_type": "code",
   "execution_count": 20,
   "id": "efb158db-7cf1-47af-bb64-46c38885972e",
   "metadata": {},
   "outputs": [
    {
     "data": {
      "text/plain": [
       "array([ 90.,  nan, 120.,  45.])"
      ]
     },
     "execution_count": 20,
     "metadata": {},
     "output_type": "execute_result"
    }
   ],
   "source": [
    "df['Duration (mins)'].unique()"
   ]
  },
  {
   "cell_type": "code",
   "execution_count": 21,
   "id": "4174cc54-8e83-4af8-bfe6-d02e57cf0d67",
   "metadata": {},
   "outputs": [
    {
     "data": {
      "text/plain": [
       "Duration (mins)\n",
       "90.0     283\n",
       "45.0     264\n",
       "120.0    248\n",
       "Name: count, dtype: int64"
      ]
     },
     "execution_count": 21,
     "metadata": {},
     "output_type": "execute_result"
    }
   ],
   "source": [
    "df['Duration (mins)'].value_counts()"
   ]
  },
  {
   "cell_type": "code",
   "execution_count": 22,
   "id": "655d6d71-f4ee-4242-b2d6-ae7fa7070e18",
   "metadata": {},
   "outputs": [
    {
     "data": {
      "text/plain": [
       "876"
      ]
     },
     "execution_count": 22,
     "metadata": {},
     "output_type": "execute_result"
    }
   ],
   "source": [
    "df['Price'].nunique()"
   ]
  },
  {
   "cell_type": "code",
   "execution_count": 23,
   "id": "9d50e059-f310-4944-8974-68d9d92d5909",
   "metadata": {},
   "outputs": [
    {
     "data": {
      "text/plain": [
       "array(['Party Room', 'Play Area', nan], dtype=object)"
      ]
     },
     "execution_count": 23,
     "metadata": {},
     "output_type": "execute_result"
    }
   ],
   "source": [
    "df['Facility'].unique()"
   ]
  },
  {
   "cell_type": "code",
   "execution_count": 24,
   "id": "836e3631-8906-4124-ab43-faeff4934850",
   "metadata": {},
   "outputs": [
    {
     "data": {
      "text/plain": [
       "Facility\n",
       "Play Area     356\n",
       "Party Room    316\n",
       "Name: count, dtype: int64"
      ]
     },
     "execution_count": 24,
     "metadata": {},
     "output_type": "execute_result"
    }
   ],
   "source": [
    "df['Facility'].value_counts()"
   ]
  },
  {
   "cell_type": "code",
   "execution_count": 25,
   "id": "c982d12f-afba-4549-b6bd-c1ce60332869",
   "metadata": {},
   "outputs": [
    {
     "data": {
      "text/plain": [
       "array([nan, 'Superhero', 'Sports', 'Princess'], dtype=object)"
      ]
     },
     "execution_count": 25,
     "metadata": {},
     "output_type": "execute_result"
    }
   ],
   "source": [
    "df['Theme'].unique()"
   ]
  },
  {
   "cell_type": "code",
   "execution_count": 26,
   "id": "11d6202d-dda5-4022-a3ae-f16fb8608a45",
   "metadata": {},
   "outputs": [
    {
     "data": {
      "text/plain": [
       "Theme\n",
       "Superhero    94\n",
       "Sports       93\n",
       "Princess     86\n",
       "Name: count, dtype: int64"
      ]
     },
     "execution_count": 26,
     "metadata": {},
     "output_type": "execute_result"
    }
   ],
   "source": [
    "df['Theme'].value_counts()"
   ]
  },
  {
   "cell_type": "code",
   "execution_count": 27,
   "id": "efe50846-72df-4cb6-88d0-c113a4c7a9d0",
   "metadata": {},
   "outputs": [
    {
     "data": {
      "text/plain": [
       "array([nan])"
      ]
     },
     "execution_count": 27,
     "metadata": {},
     "output_type": "execute_result"
    }
   ],
   "source": [
    "# Subscription Type is entirely null so it might not be useful, we can drop this column.\n",
    "df['Subscription Type'].unique()"
   ]
  },
  {
   "cell_type": "code",
   "execution_count": 28,
   "id": "46920d4d-f3ff-4b74-aaab-96305a9a35bc",
   "metadata": {},
   "outputs": [
    {
     "data": {
      "text/plain": [
       "array(['Party Room', 'Play Area', 'Art', 'Dance', 'Gymnastics'],\n",
       "      dtype=object)"
      ]
     },
     "execution_count": 28,
     "metadata": {},
     "output_type": "execute_result"
    }
   ],
   "source": [
    "df['Service Name'].unique()"
   ]
  },
  {
   "cell_type": "code",
   "execution_count": 29,
   "id": "bb76e5c3-76e3-4971-8c9d-8c39cc7460b0",
   "metadata": {},
   "outputs": [
    {
     "data": {
      "text/plain": [
       "Service Name\n",
       "Play Area     356\n",
       "Party Room    316\n",
       "Gymnastics    111\n",
       "Art           110\n",
       "Dance         107\n",
       "Name: count, dtype: int64"
      ]
     },
     "execution_count": 29,
     "metadata": {},
     "output_type": "execute_result"
    }
   ],
   "source": [
    "df['Service Name'].value_counts()"
   ]
  },
  {
   "cell_type": "code",
   "execution_count": 30,
   "id": "0830acac-1cc8-46ea-b76d-f550f0ebe0bf",
   "metadata": {},
   "outputs": [
    {
     "data": {
      "text/plain": [
       "array(['Facility', 'Birthday Party', 'Class'], dtype=object)"
      ]
     },
     "execution_count": 30,
     "metadata": {},
     "output_type": "execute_result"
    }
   ],
   "source": [
    "df['Service Type'].unique()"
   ]
  },
  {
   "cell_type": "code",
   "execution_count": 31,
   "id": "e09e783c-9963-4e10-8182-d35155364e77",
   "metadata": {},
   "outputs": [
    {
     "data": {
      "text/plain": [
       "Service Type\n",
       "Facility          347\n",
       "Birthday Party    329\n",
       "Class             324\n",
       "Name: count, dtype: int64"
      ]
     },
     "execution_count": 31,
     "metadata": {},
     "output_type": "execute_result"
    }
   ],
   "source": [
    "df['Service Type'].value_counts()"
   ]
  },
  {
   "cell_type": "code",
   "execution_count": 32,
   "id": "747adfc7-7dea-449c-8878-bb043926c14a",
   "metadata": {},
   "outputs": [
    {
     "data": {
      "text/plain": [
       "906"
      ]
     },
     "execution_count": 32,
     "metadata": {},
     "output_type": "execute_result"
    }
   ],
   "source": [
    "df['Customer Email'].nunique()"
   ]
  },
  {
   "cell_type": "code",
   "execution_count": 33,
   "id": "cdbff31d-0a83-4669-9805-f1521032066f",
   "metadata": {},
   "outputs": [
    {
     "data": {
      "text/plain": [
       "895"
      ]
     },
     "execution_count": 33,
     "metadata": {},
     "output_type": "execute_result"
    }
   ],
   "source": [
    "df['Customer Phone'].nunique()"
   ]
  },
  {
   "cell_type": "markdown",
   "id": "e2da8729-0228-43be-8eb5-22a9367fadd3",
   "metadata": {},
   "source": [
    "**Observations**\n",
    "\n",
    "-  Similarly, 'Customer Email' and 'Customer Phone' are intended for contacting purposes,they do not help with understanding the booking behavior or trends in the dataset.\n",
    "-  so am dropping them too."
   ]
  },
  {
   "cell_type": "markdown",
   "id": "c1211912-ae51-47fa-83da-2be84f171ac4",
   "metadata": {},
   "source": [
    "## Missing values Treatment"
   ]
  },
  {
   "cell_type": "code",
   "execution_count": 34,
   "id": "3afcaa99-6924-4d1b-af2c-8890b90eb663",
   "metadata": {},
   "outputs": [],
   "source": [
    "# Fill missing values\n",
    "\n",
    "df['Instructor'].fillna('No Instructor', inplace=True)\n",
    "df['Time Slot'].fillna('Unknown', inplace=True)\n",
    "df['Duration (mins)'].fillna(df['Duration (mins)'].median(), inplace=True)\n",
    "df['Facility'].fillna('Not Assigned', inplace=True)\n",
    "df['Theme'].fillna('No Theme', inplace=True)"
   ]
  },
  {
   "cell_type": "markdown",
   "id": "a9029262-b81e-4dc2-8243-39bfaf32ad9e",
   "metadata": {},
   "source": [
    "# some analysis on colums"
   ]
  },
  {
   "cell_type": "code",
   "execution_count": 35,
   "id": "1b1ff545-deda-407c-a3cb-c6ee4f477bc1",
   "metadata": {},
   "outputs": [
    {
     "data": {
      "text/plain": [
       "array([nan], dtype=object)"
      ]
     },
     "execution_count": 35,
     "metadata": {},
     "output_type": "execute_result"
    }
   ],
   "source": [
    "a=df[df['Booking Type'].isin(['Facility', 'Birthday Party'])][['Booking Type','Class Type']]\n",
    "a['Class Type'].unique()   # all NaN's"
   ]
  },
  {
   "cell_type": "code",
   "execution_count": 36,
   "id": "ed24fa03-3163-4885-a109-6d4be80b7dbd",
   "metadata": {},
   "outputs": [
    {
     "data": {
      "text/plain": [
       "array([], dtype=object)"
      ]
     },
     "execution_count": 36,
     "metadata": {},
     "output_type": "execute_result"
    }
   ],
   "source": [
    "b=df[df['Class Type']=='Unknown'][['Class Type','Booking Type']]\n",
    "b['Booking Type'].unique()    # values only present for class type not for Facility and Birthday Party"
   ]
  },
  {
   "cell_type": "markdown",
   "id": "43b6b6f4-a858-4f06-9ed3-c3a9b6558777",
   "metadata": {},
   "source": [
    "**Observations**\n",
    "\n",
    "- The null values in the Class Type column occur only for bookings categorized as \"Facility\" and \"Birthday Party\".\n",
    "- Only bookings with the type \"Class\" have non-null values, indicating that Class bookings are further segmented.\n",
    "- The values present for Class bookings include specific types such as Art, Dance, and Gymnastics."
   ]
  },
  {
   "cell_type": "code",
   "execution_count": 37,
   "id": "1765c38a-5f98-4a71-905a-a072588f3e95",
   "metadata": {},
   "outputs": [
    {
     "data": {
      "text/plain": [
       "(58, 2)"
      ]
     },
     "execution_count": 37,
     "metadata": {},
     "output_type": "execute_result"
    }
   ],
   "source": [
    "c=df[df['Instructor']=='No Instructor'][['Booking Type','Class Type']]\n",
    "c[c['Booking Type']=='Class'].shape\n",
    "\n",
    "# it's okay to have No Instructor for Facility and Birthday Party , but for class , some instructor should be there "
   ]
  },
  {
   "cell_type": "markdown",
   "id": "d1bdc71e-117b-4d68-a069-25037df3a3f6",
   "metadata": {},
   "source": [
    "**Observations**\n",
    "\n",
    "- It's acceptable for Facility and Birthday Party bookings to have \"No Instructor\" since these services typically do not require one.\n",
    "-  For Class bookings, however, an instructor should be assigned, so any \"No Instructor\" entries in Class bookings may indicate a data quality issue or missing information that should be addressed."
   ]
  },
  {
   "cell_type": "markdown",
   "id": "40b56b96-f692-4928-80a0-789f8392cbae",
   "metadata": {},
   "source": [
    "**Observation**\n",
    "\n",
    "- The Facility column contains some missing values; however, since similar information is present in the Service Name column, I will drop the Facility column and retain Service Name for analysis."
   ]
  },
  {
   "cell_type": "code",
   "execution_count": 38,
   "id": "0b674624-9c1d-4e6b-86f5-ab37ec970bf2",
   "metadata": {},
   "outputs": [
    {
     "data": {
      "text/plain": [
       "array(['Birthday Party'], dtype=object)"
      ]
     },
     "execution_count": 38,
     "metadata": {},
     "output_type": "execute_result"
    }
   ],
   "source": [
    "c=df[['Theme','Booking Type']]\n",
    "c[c['Theme']!='No Theme']['Booking Type'].unique()"
   ]
  },
  {
   "cell_type": "code",
   "execution_count": 39,
   "id": "fd74200f-6045-40ce-ab19-2e200d1afcca",
   "metadata": {},
   "outputs": [
    {
     "data": {
      "text/plain": [
       "Theme\n",
       "No Theme     727\n",
       "Superhero     94\n",
       "Sports        93\n",
       "Princess      86\n",
       "Name: count, dtype: int64"
      ]
     },
     "execution_count": 39,
     "metadata": {},
     "output_type": "execute_result"
    }
   ],
   "source": [
    "df['Theme'].value_counts()"
   ]
  },
  {
   "cell_type": "code",
   "execution_count": 40,
   "id": "06586bc4-1203-4dff-a2ee-7f3d6647a8ff",
   "metadata": {},
   "outputs": [
    {
     "data": {
      "text/plain": [
       "array(['Facility', 'Birthday Party', 'Class'], dtype=object)"
      ]
     },
     "execution_count": 40,
     "metadata": {},
     "output_type": "execute_result"
    }
   ],
   "source": [
    "c[c['Theme']=='No Theme']['Booking Type'].unique()"
   ]
  },
  {
   "cell_type": "code",
   "execution_count": 41,
   "id": "fec96926-7fc5-4cc2-98e9-f13f84b3ff12",
   "metadata": {},
   "outputs": [
    {
     "data": {
      "text/plain": [
       "(62, 2)"
      ]
     },
     "execution_count": 41,
     "metadata": {},
     "output_type": "execute_result"
    }
   ],
   "source": [
    "c[(c['Theme']=='No Theme')&(c['Booking Type']=='Birthday Party')].shape\n",
    "\n",
    "# Theme less Birthday parties are 62 "
   ]
  },
  {
   "cell_type": "markdown",
   "id": "1e68eb5f-3f98-48f5-8d6e-ad161135f1ad",
   "metadata": {},
   "source": [
    "**Observation**\n",
    "\n",
    "- The Theme column is used exclusively for Birthday Party bookings.\n",
    "- Some Birthday Party entries have no theme, which is acceptable as not all birthday parties are assigned a theme."
   ]
  },
  {
   "cell_type": "code",
   "execution_count": 42,
   "id": "6e7125de-f0b0-4e5a-8136-a53f9b0d4443",
   "metadata": {},
   "outputs": [
    {
     "data": {
      "text/plain": [
       "array([], dtype=object)"
      ]
     },
     "execution_count": 42,
     "metadata": {},
     "output_type": "execute_result"
    }
   ],
   "source": [
    "d=df[['Class Type','Service Name']]\n",
    "d[d['Class Type']=='Unknown']['Service Name'].unique()"
   ]
  },
  {
   "cell_type": "code",
   "execution_count": 43,
   "id": "4e06782b-ffb1-43aa-92a1-2f0381866cea",
   "metadata": {},
   "outputs": [
    {
     "data": {
      "text/plain": [
       "(0, 2)"
      ]
     },
     "execution_count": 43,
     "metadata": {},
     "output_type": "execute_result"
    }
   ],
   "source": [
    "d[d['Class Type']=='Unknown'].shape"
   ]
  },
  {
   "cell_type": "markdown",
   "id": "185a2db1-09a8-4c0a-ab78-393385135879",
   "metadata": {},
   "source": [
    "**Observation**\n",
    "\n",
    "- The Class Type column has 672 missing values.\n",
    "- The detailed information present in the Class Type column is already available in the Service Name column.\n",
    "- Therefore, I will drop the Class Type column and retain the Service Name column for further analysis."
   ]
  },
  {
   "cell_type": "code",
   "execution_count": null,
   "id": "6066aa0e-1da5-4289-bf92-2ac0385e942b",
   "metadata": {},
   "outputs": [],
   "source": []
  },
  {
   "cell_type": "code",
   "execution_count": 44,
   "id": "c97c5ad6-337f-4ece-b56c-7a1fc007f13d",
   "metadata": {},
   "outputs": [
    {
     "data": {
      "text/html": [
       "<div>\n",
       "<style scoped>\n",
       "    .dataframe tbody tr th:only-of-type {\n",
       "        vertical-align: middle;\n",
       "    }\n",
       "\n",
       "    .dataframe tbody tr th {\n",
       "        vertical-align: top;\n",
       "    }\n",
       "\n",
       "    .dataframe thead th {\n",
       "        text-align: right;\n",
       "    }\n",
       "</style>\n",
       "<table border=\"1\" class=\"dataframe\">\n",
       "  <thead>\n",
       "    <tr style=\"text-align: right;\">\n",
       "      <th></th>\n",
       "      <th>Booking Type</th>\n",
       "      <th>Service Type</th>\n",
       "    </tr>\n",
       "  </thead>\n",
       "  <tbody>\n",
       "    <tr>\n",
       "      <th>0</th>\n",
       "      <td>Facility</td>\n",
       "      <td>Facility</td>\n",
       "    </tr>\n",
       "    <tr>\n",
       "      <th>1</th>\n",
       "      <td>Birthday Party</td>\n",
       "      <td>Birthday Party</td>\n",
       "    </tr>\n",
       "    <tr>\n",
       "      <th>2</th>\n",
       "      <td>Birthday Party</td>\n",
       "      <td>Facility</td>\n",
       "    </tr>\n",
       "    <tr>\n",
       "      <th>3</th>\n",
       "      <td>Birthday Party</td>\n",
       "      <td>Birthday Party</td>\n",
       "    </tr>\n",
       "    <tr>\n",
       "      <th>4</th>\n",
       "      <td>Class</td>\n",
       "      <td>Class</td>\n",
       "    </tr>\n",
       "    <tr>\n",
       "      <th>...</th>\n",
       "      <td>...</td>\n",
       "      <td>...</td>\n",
       "    </tr>\n",
       "    <tr>\n",
       "      <th>995</th>\n",
       "      <td>Birthday Party</td>\n",
       "      <td>Birthday Party</td>\n",
       "    </tr>\n",
       "    <tr>\n",
       "      <th>996</th>\n",
       "      <td>Class</td>\n",
       "      <td>Class</td>\n",
       "    </tr>\n",
       "    <tr>\n",
       "      <th>997</th>\n",
       "      <td>Facility</td>\n",
       "      <td>Facility</td>\n",
       "    </tr>\n",
       "    <tr>\n",
       "      <th>998</th>\n",
       "      <td>Facility</td>\n",
       "      <td>Facility</td>\n",
       "    </tr>\n",
       "    <tr>\n",
       "      <th>999</th>\n",
       "      <td>Facility</td>\n",
       "      <td>Facility</td>\n",
       "    </tr>\n",
       "  </tbody>\n",
       "</table>\n",
       "<p>1000 rows × 2 columns</p>\n",
       "</div>"
      ],
      "text/plain": [
       "       Booking Type    Service Type\n",
       "0          Facility        Facility\n",
       "1    Birthday Party  Birthday Party\n",
       "2    Birthday Party        Facility\n",
       "3    Birthday Party  Birthday Party\n",
       "4             Class           Class\n",
       "..              ...             ...\n",
       "995  Birthday Party  Birthday Party\n",
       "996           Class           Class\n",
       "997        Facility        Facility\n",
       "998        Facility        Facility\n",
       "999        Facility        Facility\n",
       "\n",
       "[1000 rows x 2 columns]"
      ]
     },
     "execution_count": 44,
     "metadata": {},
     "output_type": "execute_result"
    }
   ],
   "source": [
    "df[['Booking Type','Service Type']]"
   ]
  },
  {
   "cell_type": "code",
   "execution_count": 45,
   "id": "cd5a546c-9ea7-48a1-a84b-40190ee110b6",
   "metadata": {},
   "outputs": [
    {
     "data": {
      "text/plain": [
       "(305, 2)"
      ]
     },
     "execution_count": 45,
     "metadata": {},
     "output_type": "execute_result"
    }
   ],
   "source": [
    "# service type , booking type have same unique values but some rows are not maching what it means\n",
    "mismatched_rows = df[df['Booking Type'] != df['Service Type']]\n",
    "mismatched_rows[['Booking Type','Service Type']].shape"
   ]
  },
  {
   "cell_type": "code",
   "execution_count": null,
   "id": "2acfac4f-9fab-4a8b-814a-f4aa733cf0d3",
   "metadata": {},
   "outputs": [],
   "source": []
  },
  {
   "cell_type": "markdown",
   "id": "7b1c4093-f092-4bf8-b8dc-19d30b8ad771",
   "metadata": {},
   "source": [
    "## dropping UnImportant columns"
   ]
  },
  {
   "cell_type": "code",
   "execution_count": 46,
   "id": "fbd57d33-9f8e-4248-aee1-7d426c32d98e",
   "metadata": {},
   "outputs": [],
   "source": [
    "df.drop(['Booking ID', 'Customer ID', 'Customer Name','Class Type','Facility','Subscription Type','Customer Email', 'Customer Phone'],axis=1,inplace=True)"
   ]
  },
  {
   "cell_type": "code",
   "execution_count": null,
   "id": "ee8a88c0-44ff-444c-91bf-1ae5754237db",
   "metadata": {},
   "outputs": [],
   "source": []
  },
  {
   "cell_type": "code",
   "execution_count": 47,
   "id": "93951795-3c6f-4a8b-bd22-2a8e85fc19e9",
   "metadata": {},
   "outputs": [
    {
     "data": {
      "text/html": [
       "<div>\n",
       "<style scoped>\n",
       "    .dataframe tbody tr th:only-of-type {\n",
       "        vertical-align: middle;\n",
       "    }\n",
       "\n",
       "    .dataframe tbody tr th {\n",
       "        vertical-align: top;\n",
       "    }\n",
       "\n",
       "    .dataframe thead th {\n",
       "        text-align: right;\n",
       "    }\n",
       "</style>\n",
       "<table border=\"1\" class=\"dataframe\">\n",
       "  <thead>\n",
       "    <tr style=\"text-align: right;\">\n",
       "      <th></th>\n",
       "      <th>Booking Type</th>\n",
       "      <th>Booking Date</th>\n",
       "      <th>Status</th>\n",
       "      <th>Instructor</th>\n",
       "      <th>Time Slot</th>\n",
       "      <th>Duration (mins)</th>\n",
       "      <th>Price</th>\n",
       "      <th>Theme</th>\n",
       "      <th>Service Name</th>\n",
       "      <th>Service Type</th>\n",
       "    </tr>\n",
       "  </thead>\n",
       "  <tbody>\n",
       "    <tr>\n",
       "      <th>0</th>\n",
       "      <td>Facility</td>\n",
       "      <td>2025-05-30</td>\n",
       "      <td>Pending</td>\n",
       "      <td>No Instructor</td>\n",
       "      <td>10 AM</td>\n",
       "      <td>90.0</td>\n",
       "      <td>42.74</td>\n",
       "      <td>No Theme</td>\n",
       "      <td>Party Room</td>\n",
       "      <td>Facility</td>\n",
       "    </tr>\n",
       "    <tr>\n",
       "      <th>1</th>\n",
       "      <td>Birthday Party</td>\n",
       "      <td>2025-05-29</td>\n",
       "      <td>Pending</td>\n",
       "      <td>No Instructor</td>\n",
       "      <td>Unknown</td>\n",
       "      <td>90.0</td>\n",
       "      <td>182.06</td>\n",
       "      <td>Superhero</td>\n",
       "      <td>Party Room</td>\n",
       "      <td>Birthday Party</td>\n",
       "    </tr>\n",
       "  </tbody>\n",
       "</table>\n",
       "</div>"
      ],
      "text/plain": [
       "     Booking Type Booking Date   Status     Instructor Time Slot  \\\n",
       "0        Facility   2025-05-30  Pending  No Instructor     10 AM   \n",
       "1  Birthday Party   2025-05-29  Pending  No Instructor   Unknown   \n",
       "\n",
       "   Duration (mins)   Price      Theme Service Name    Service Type  \n",
       "0             90.0   42.74   No Theme   Party Room        Facility  \n",
       "1             90.0  182.06  Superhero   Party Room  Birthday Party  "
      ]
     },
     "execution_count": 47,
     "metadata": {},
     "output_type": "execute_result"
    }
   ],
   "source": [
    "df.head(2)"
   ]
  },
  {
   "cell_type": "code",
   "execution_count": 48,
   "id": "c4386832-9368-48cd-b44b-dd5c87df24b5",
   "metadata": {},
   "outputs": [
    {
     "data": {
      "text/plain": [
       "array(['10 AM', 'Unknown', '11 AM', '12 PM', '03 PM', '04 PM', '01 PM',\n",
       "       '09 AM', '05 PM', '02 PM'], dtype=object)"
      ]
     },
     "execution_count": 48,
     "metadata": {},
     "output_type": "execute_result"
    }
   ],
   "source": [
    "df['Time Slot'].unique()"
   ]
  },
  {
   "cell_type": "code",
   "execution_count": 49,
   "id": "a4d6973f-2e49-4c09-8148-50de45cf8bba",
   "metadata": {},
   "outputs": [
    {
     "data": {
      "text/plain": [
       "Service Name\n",
       "Gymnastics    111\n",
       "Art           110\n",
       "Dance         107\n",
       "Name: count, dtype: int64"
      ]
     },
     "execution_count": 49,
     "metadata": {},
     "output_type": "execute_result"
    }
   ],
   "source": [
    "df[df['Booking Type']=='Class']['Service Name'].value_counts()"
   ]
  },
  {
   "cell_type": "code",
   "execution_count": 50,
   "id": "a86fc166-9d37-43ed-b5c8-d0b5d7a0027e",
   "metadata": {},
   "outputs": [
    {
     "data": {
      "text/plain": [
       "Service Name\n",
       "Play Area     356\n",
       "Party Room    316\n",
       "Name: count, dtype: int64"
      ]
     },
     "execution_count": 50,
     "metadata": {},
     "output_type": "execute_result"
    }
   ],
   "source": [
    "df[df['Booking Type']!='Class']['Service Name'].value_counts()"
   ]
  },
  {
   "cell_type": "code",
   "execution_count": null,
   "id": "dc39d7c6-c4bf-40f5-9678-47966a441f2e",
   "metadata": {},
   "outputs": [],
   "source": []
  },
  {
   "cell_type": "code",
   "execution_count": null,
   "id": "d9ac2e77-de7e-4c5f-8277-fd6be4fd8c62",
   "metadata": {},
   "outputs": [],
   "source": []
  },
  {
   "cell_type": "code",
   "execution_count": null,
   "id": "22ea413a-e35e-4d24-8f50-228e18d1cab6",
   "metadata": {},
   "outputs": [],
   "source": []
  },
  {
   "cell_type": "markdown",
   "id": "5d2addde-03de-4fcf-98d9-c6a03255fdc5",
   "metadata": {},
   "source": [
    "**6. Exploratory Data Analysis (EDA)**"
   ]
  },
  {
   "cell_type": "markdown",
   "id": "7437ff20-2408-4411-bdf6-5daadb3fcfbd",
   "metadata": {},
   "source": [
    "- We now explore trends, distributions, and relationships in the data using visualizations. "
   ]
  },
  {
   "cell_type": "markdown",
   "id": "af5dff4b-6e35-4bcd-9c12-381d9e45d543",
   "metadata": {},
   "source": [
    "**1st**"
   ]
  },
  {
   "cell_type": "code",
   "execution_count": 51,
   "id": "26e63a36-9454-490c-a6bf-ade286fb78e2",
   "metadata": {},
   "outputs": [
    {
     "data": {
      "image/png": "[encoded data removed]",
      "text/plain": [
       "<Figure size 800x500 with 1 Axes>"
      ]
     },
     "metadata": {},
     "output_type": "display_data"
    }
   ],
   "source": [
    "# Booking Type Frequency Analysis\n",
    "\n",
    "\n",
    "# Set style for better visuals\n",
    "sns.set_style(\"whitegrid\")\n",
    "\n",
    "# Booking Type Distribution\n",
    "plt.figure(figsize=(8, 5))\n",
    "ax=sns.countplot(data=df, x=\"Booking Type\", hue=\"Booking Type\", palette=\"viridis\", \n",
    "              order=df[\"Booking Type\"].value_counts().index, legend=False)\n",
    "\n",
    "# Add text labels on top of bars\n",
    "for p in ax.patches:\n",
    "    ax.annotate(f'{int(p.get_height())}',  # Convert height to int for clean labels\n",
    "                (p.get_x() + p.get_width() / 2., p.get_height()),  # Positioning\n",
    "                ha='center', va='bottom', fontsize=12, color='black', fontweight='bold')\n",
    "\n",
    "plt.title(\"Booking Type Distribution\", fontsize=14)\n",
    "plt.xlabel(\"Booking Type\")\n",
    "plt.ylabel(\"Count\")\n",
    "plt.xticks(rotation=45)\n",
    "plt.show()"
   ]
  },
  {
   "cell_type": "markdown",
   "id": "38f74215-d771-4466-837c-7b728b546096",
   "metadata": {},
   "source": [
    "**Observations**\n",
    "  \n",
    "- The dataset contains three main booking types: Facility, Birthday Party, and Class.\n",
    "- The number of bookings in each category is almost equal, meaning no single type dominates the overall demand.\n",
    "- This balanced distribution suggests that customers use all three services in a similar proportion, and the business does not heavily rely on just one type of booking."
   ]
  },
  {
   "cell_type": "markdown",
   "id": "e15e0a92-e271-43f1-868d-39a07733f83e",
   "metadata": {},
   "source": [
    "**2nd**"
   ]
  },
  {
   "cell_type": "code",
   "execution_count": 52,
   "id": "084ac622-0401-4ec9-beac-068ca3f3be88",
   "metadata": {},
   "outputs": [
    {
     "data": {
      "text/html": [
       "<div>\n",
       "<style scoped>\n",
       "    .dataframe tbody tr th:only-of-type {\n",
       "        vertical-align: middle;\n",
       "    }\n",
       "\n",
       "    .dataframe tbody tr th {\n",
       "        vertical-align: top;\n",
       "    }\n",
       "\n",
       "    .dataframe thead th {\n",
       "        text-align: right;\n",
       "    }\n",
       "</style>\n",
       "<table border=\"1\" class=\"dataframe\">\n",
       "  <thead>\n",
       "    <tr style=\"text-align: right;\">\n",
       "      <th></th>\n",
       "      <th>Month</th>\n",
       "      <th>Price</th>\n",
       "    </tr>\n",
       "  </thead>\n",
       "  <tbody>\n",
       "    <tr>\n",
       "      <th>0</th>\n",
       "      <td>March</td>\n",
       "      <td>11550.86</td>\n",
       "    </tr>\n",
       "    <tr>\n",
       "      <th>1</th>\n",
       "      <td>April</td>\n",
       "      <td>46692.01</td>\n",
       "    </tr>\n",
       "    <tr>\n",
       "      <th>2</th>\n",
       "      <td>May</td>\n",
       "      <td>45389.75</td>\n",
       "    </tr>\n",
       "    <tr>\n",
       "      <th>3</th>\n",
       "      <td>June</td>\n",
       "      <td>35844.59</td>\n",
       "    </tr>\n",
       "  </tbody>\n",
       "</table>\n",
       "</div>"
      ],
      "text/plain": [
       "   Month     Price\n",
       "0  March  11550.86\n",
       "1  April  46692.01\n",
       "2    May  45389.75\n",
       "3   June  35844.59"
      ]
     },
     "execution_count": 52,
     "metadata": {},
     "output_type": "execute_result"
    }
   ],
   "source": [
    "# monthly Trends \n",
    "\n",
    "import calendar\n",
    "\n",
    "df['Month'] = pd.to_datetime(df['Booking Date']).dt.month\n",
    "monthly_revenue = df.groupby('Month')['Price'].sum().reset_index()\n",
    "monthly_revenue['Month'] = monthly_revenue['Month'].apply(lambda x: calendar.month_name[x])\n",
    "monthly_revenue"
   ]
  },
  {
   "cell_type": "code",
   "execution_count": 53,
   "id": "2421927a-3a5a-41c0-ad09-4f6358a8e13b",
   "metadata": {},
   "outputs": [
    {
     "data": {
      "image/png": "[encoded data removed]",
      "text/plain": [
       "<Figure size 1000x500 with 1 Axes>"
      ]
     },
     "metadata": {},
     "output_type": "display_data"
    }
   ],
   "source": [
    "# Plot Monthly Revenue Trend\n",
    "plt.figure(figsize=(10, 5))\n",
    "ax = sns.lineplot(data=monthly_revenue, x=\"Month\", y=\"Price\", marker=\"o\", color=\"b\")\n",
    "\n",
    "# Add labels to each point\n",
    "for i, row in monthly_revenue.iterrows():\n",
    "    plt.text(row[\"Month\"], row[\"Price\"], f\"{row['Price']:,.0f}\", \n",
    "             ha=\"center\", va=\"bottom\", fontsize=10, fontweight=\"bold\", color=\"black\")\n",
    "\n",
    "plt.title(\"Monthly Revenue Trend\", fontsize=14)\n",
    "plt.xlabel(\"Month\")\n",
    "plt.ylabel(\"Total Revenue\")\n",
    "plt.xticks(rotation=45)\n",
    "plt.grid(True, linestyle=\"--\", alpha=0.7)  # Add grid for better readability\n",
    "plt.show()"
   ]
  },
  {
   "cell_type": "markdown",
   "id": "34a8127c-8d05-422b-8b34-82f7d898ecd0",
   "metadata": {},
   "source": [
    "**Observations**\n",
    "\n",
    "- The highest revenue was recorded in April ( 46,692) and May ( 45,389).\n",
    "- There was a noticeable decline in June, which could be due to seasonal factors like the end of school sessions or changes in customer behavior.\n",
    "- Understanding these patterns can help the business prepare for peak months and offer promotions or discounts in slow months to balance revenue."
   ]
  },
  {
   "cell_type": "markdown",
   "id": "6885fbbf-35e9-4b1f-9bb6-c21e113e90e6",
   "metadata": {},
   "source": [
    "**3rd**"
   ]
  },
  {
   "cell_type": "code",
   "execution_count": 54,
   "id": "873bda20-ed01-45e6-a2b2-e89cb005fd53",
   "metadata": {},
   "outputs": [
    {
     "data": {
      "image/png": "[encoded data removed]",
      "text/plain": [
       "<Figure size 1000x500 with 1 Axes>"
      ]
     },
     "metadata": {},
     "output_type": "display_data"
    }
   ],
   "source": [
    "# Top booked services\n",
    "top_services = df['Service Name'].value_counts()\n",
    "plt.figure(figsize=(10,5))\n",
    "a=sns.barplot(x=top_services.values, y=top_services.index, hue=top_services.index, palette=\"Blues_r\", legend=False)\n",
    "\n",
    "# Add values on bars\n",
    "for index, value in enumerate(top_services.values):\n",
    "    a.text(value + 1, index, str(value), va='center', fontsize=10)  # Adjust position\n",
    "\n",
    "plt.xlabel(\"Number of Bookings\")\n",
    "plt.ylabel(\"Service Name\")\n",
    "plt.title(\"Most Booked Services\")\n",
    "plt.show()"
   ]
  },
  {
   "cell_type": "markdown",
   "id": "0a9e8ac3-3fa4-49aa-bf14-fb3835cc8727",
   "metadata": {},
   "source": [
    "**Observations**\n",
    "\n",
    "- Among all available services, Play Area and Party Room are the most frequently booked.\n",
    "- Gymnastics, Art, and Dance services have relatively fewer bookings, but they still contribute significantly to the overall business.\n",
    "- This could indicate that people prefer facility-based activities (like Play Area and Party Room) more than structured classes.\n",
    "- If the business wants to increase bookings for Art, Dance, and Gymnastics, they might consider marketing strategies like offering package deals or trial classes."
   ]
  },
  {
   "cell_type": "markdown",
   "id": "767af4b1-5abb-4019-8fdf-7c3754d35653",
   "metadata": {},
   "source": [
    "**4th**"
   ]
  },
  {
   "cell_type": "code",
   "execution_count": 55,
   "id": "f3ea70dc-5bd8-45d9-8a92-d36e41974ef0",
   "metadata": {},
   "outputs": [
    {
     "data": {
      "image/png": "[encoded data removed]",
      "text/plain": [
       "<Figure size 1000x500 with 1 Axes>"
      ]
     },
     "metadata": {},
     "output_type": "display_data"
    }
   ],
   "source": [
    "# Peak Booking Hours\n",
    "\n",
    "peak_hours = df['Time Slot'].value_counts().reset_index()\n",
    "peak_hours.columns = ['Time Slot', 'Bookings']\n",
    "\n",
    "plt.figure(figsize=(10, 5))\n",
    "ax = sns.barplot(x='Bookings', y='Time Slot', hue='Time Slot', data=peak_hours, palette='Oranges_r', legend=False)\n",
    "\n",
    "# Add values on bars\n",
    "for p in ax.patches:\n",
    "    ax.annotate(f'{int(p.get_width())}', (p.get_width(), p.get_y() + p.get_height()/2),\n",
    "                ha='left', va='center', fontsize=12, color='black', fontweight='bold')\n",
    "\n",
    "# Labels & Title\n",
    "plt.xlabel(\"Number of Bookings\")\n",
    "plt.ylabel(\"Time Slot\")\n",
    "plt.title(\"Peak Booking Time Slots\", fontsize=14)\n",
    "plt.show()"
   ]
  },
  {
   "cell_type": "markdown",
   "id": "9ffbe9d0-9ff1-4a86-9714-77bdedf19e52",
   "metadata": {},
   "source": [
    "**Observations**\n",
    "\n",
    "- The majority of bookings occur during the morning hours— 11 AM to 2 PM.\n",
    "- Fewer bookings are observed in the late afternoon ( afetr 4 PM and above 10 AM).\n",
    "- This suggests that customers prefer scheduling their activities in the morning and early afternoon, possibly to align with their daily routines.\n",
    "- The business could offer discounts for less popular time slots or introduce new activities to attract customers in the afternoon."
   ]
  },
  {
   "cell_type": "markdown",
   "id": "aa07be16-f960-441b-b3db-0704b5aba29a",
   "metadata": {},
   "source": [
    "**5th**"
   ]
  },
  {
   "cell_type": "code",
   "execution_count": 56,
   "id": "dc084c26-f5d4-4b50-b658-fa9cb77b594e",
   "metadata": {},
   "outputs": [
    {
     "data": {
      "image/png": "[encoded data removed]",
      "text/plain": [
       "<Figure size 1200x600 with 1 Axes>"
      ]
     },
     "metadata": {},
     "output_type": "display_data"
    }
   ],
   "source": [
    "# Breakdown of Services Under Each Booking Type\n",
    "\n",
    "plt.figure(figsize=(12, 6))\n",
    "\n",
    "# Use a better color palette\n",
    "ax = sns.countplot(data=df, x=\"Booking Type\", hue=\"Service Name\", palette=\"Set2\")\n",
    "\n",
    "# Add text labels on top of bars\n",
    "for p in ax.patches:\n",
    "    ax.annotate(f'{int(p.get_height())}',  \n",
    "                (p.get_x() + p.get_width() / 2., p.get_height()),  \n",
    "                ha='center', va='bottom', fontsize=10, color='black', fontweight='bold')\n",
    "\n",
    "# Labels and Titles\n",
    "plt.xlabel(\"Booking Type\", fontsize=12)\n",
    "plt.ylabel(\"Count of Bookings\", fontsize=12)\n",
    "plt.title(\"Booking Type vs Service Name Distribution\", fontsize=14, fontweight='bold')\n",
    "\n",
    "# Rotate x-axis labels for better readability\n",
    "plt.xticks(rotation=45)\n",
    "\n",
    "# Move legend outside\n",
    "plt.legend(title=\"Service Name\", bbox_to_anchor=(1.05, 1), loc='upper left')\n",
    "\n",
    "plt.show()"
   ]
  },
  {
   "cell_type": "markdown",
   "id": "577ac587-9d8b-4a23-8a62-e53c81917f42",
   "metadata": {},
   "source": [
    "**Observations**\n",
    "\n",
    "- For Facility and Birthday Party bookings, the most commonly used spaces are Party Room and Play Area.\n",
    "- On the other hand, Class bookings are linked to structured activities like Gymnastics, Art, and Dance.\n",
    "- This separation shows that different booking types serve distinct customer needs—some prefer unstructured play areas, while others opt for organized classes."
   ]
  },
  {
   "cell_type": "markdown",
   "id": "95b79ade-d6fc-4ae8-9ca7-51e871527134",
   "metadata": {},
   "source": [
    "**6th**"
   ]
  },
  {
   "cell_type": "code",
   "execution_count": 57,
   "id": "47ce4e54-3828-4dbe-8d61-1d9c904685cb",
   "metadata": {},
   "outputs": [
    {
     "data": {
      "text/plain": [
       "Service Name\n",
       "Art           14611.26\n",
       "Dance         15474.94\n",
       "Gymnastics    15480.18\n",
       "Party Room    43762.19\n",
       "Play Area     50148.64\n",
       "Name: Price, dtype: float64"
      ]
     },
     "execution_count": 57,
     "metadata": {},
     "output_type": "execute_result"
    }
   ],
   "source": [
    "df.groupby('Service Name')['Price'].sum()"
   ]
  },
  {
   "cell_type": "code",
   "execution_count": 58,
   "id": "32fa9e85-c457-4039-a8e4-571f22a46d24",
   "metadata": {},
   "outputs": [
    {
     "data": {
      "image/png": "[encoded data removed]",
      "text/plain": [
       "<Figure size 1000x600 with 1 Axes>"
      ]
     },
     "metadata": {},
     "output_type": "display_data"
    }
   ],
   "source": [
    "service_revenue = df.groupby('Service Name')['Price'].sum().sort_values(ascending=False)\n",
    "\n",
    "# Plot\n",
    "plt.figure(figsize=(10, 6))\n",
    "ax = sns.barplot(x=service_revenue.values, y=service_revenue.index, hue=service_revenue.index, palette=\"coolwarm\", legend=False)\n",
    "\n",
    "# Add values on bars\n",
    "for p in ax.patches:\n",
    "    ax.annotate(f'{p.get_width():,.2f}', (p.get_width(), p.get_y() + p.get_height()/2),\n",
    "                ha='left', va='center', fontsize=12, color='black', fontweight='bold')\n",
    "\n",
    "# Labels & Title\n",
    "plt.xlabel(\"Total Revenue\")\n",
    "plt.ylabel(\"Service Name\")\n",
    "plt.title(\"Revenue by Service\", fontsize=14)\n",
    "plt.show()"
   ]
  },
  {
   "cell_type": "markdown",
   "id": "f8f36756-3eaa-408c-93cb-80986ff380e7",
   "metadata": {},
   "source": [
    "**Observations**\n",
    "\n",
    "- Play Area generates the highest revenue ( 50,148 ), followed by Party Room ( 43,762 ).\n",
    "- Structured services like Art, Dance, and Gymnastics contribute less to revenue but still play a valuable role.\n",
    "- Since Play Area and Party Room are the biggest revenue sources, the business could focus on expanding or enhancing these facilities to maximize profits.\n",
    "- Meanwhile, adding membership programs or long-term packages for Art, Dance, and Gymnastics could boost their revenue."
   ]
  },
  {
   "cell_type": "markdown",
   "id": "04417e3a-907f-48ef-9145-fbe1ae54cd20",
   "metadata": {},
   "source": [
    "**7th**"
   ]
  },
  {
   "cell_type": "code",
   "execution_count": 59,
   "id": "0dbaa1c2-5fb6-484f-a909-b47e5826dbb8",
   "metadata": {},
   "outputs": [
    {
     "data": {
      "text/plain": [
       "Weekday\n",
       "Saturday     153\n",
       "Monday       152\n",
       "Sunday       148\n",
       "Wednesday    147\n",
       "Thursday     141\n",
       "Friday       131\n",
       "Tuesday      128\n",
       "Name: count, dtype: int64"
      ]
     },
     "execution_count": 59,
     "metadata": {},
     "output_type": "execute_result"
    }
   ],
   "source": [
    "# Price on Weekends vs. Weekdays \n",
    "\n",
    "df['Weekday'] = df['Booking Date'].dt.day_name()\n",
    "df['Weekday'].value_counts()\n",
    "\n",
    "# weekend_prices = df.groupby('Weekend')['Price'].mean().reset_index()\n",
    "# weekend_prices"
   ]
  },
  {
   "cell_type": "markdown",
   "id": "3f250e0a-7187-41c9-92e5-22446f38aea2",
   "metadata": {},
   "source": [
    "**Observations**\n",
    "\n",
    "- The highest number of bookings happen on Saturdays and Sundays, indicating that weekends are the busiest days for the business.\n",
    "- Friday and Monday also see a good number of bookings, possibly from people extending their weekend plans or attending scheduled classes.\n",
    "- Since weekends are naturally high-demand, the business could increase pricing slightly for weekend bookings while offering weekday discounts to attract more customers during slower days."
   ]
  },
  {
   "cell_type": "code",
   "execution_count": 60,
   "id": "c3da7865-239b-400d-b117-2c1e3dbd206e",
   "metadata": {},
   "outputs": [],
   "source": [
    "df.to_excel(\"DataAnalyst_Assesment_Dataset_cleaned_data.xlsx\", index=False)"
   ]
  }
 ],
 "metadata": {
  "kernelspec": {
   "display_name": "Python 3 (ipykernel)",
   "language": "python",
   "name": "python3"
  },
  "language_info": {
   "codemirror_mode": {
    "name": "ipython",
    "version": 3
   },
   "file_extension": ".py",
   "mimetype": "text/x-python",
   "name": "python",
   "nbconvert_exporter": "python",
   "pygments_lexer": "ipython3",
   "version": "3.11.7"
  }
 },
 "nbformat": 4,
 "nbformat_minor": 5
}
